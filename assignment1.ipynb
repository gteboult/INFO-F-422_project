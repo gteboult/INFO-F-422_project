{
 "cells": [
  {
   "cell_type": "markdown",
   "id": "6fe2688a",
   "metadata": {},
   "source": [
    "# Assignment 1 (INFO-F438)\n",
    "Guillaume Teboul 000477905 <br> <br>\n",
    "This program use the libraries: random, time and matplotlib <br> <br>\n",
    "This program use the Python 3 kernel of jupyter (ipykernel) \n",
    "# Introduction\n",
    "In this asignment, we will attempt to solve a protein folding problem. From a sequence of either H or P we will search for a fold on a 2d grid that will maximise the numbers of hydrogen bonds. An hydrogen bond is formed where two H are adjacent in the grid but are not neighbours in the sequence. First, we will slowly build the code capable of modelising folds and then we will analyse the performance of this code.\n",
    "\n",
    "# Constants used in the program\n"
   ]
  },
  {
   "cell_type": "code",
   "execution_count": 1,
   "id": "91307db2",
   "metadata": {},
   "outputs": [],
   "source": [
    "UP = (0,1)\n",
    "RIGHT = (1,0)\n",
    "DOWN = (0,-1)\n",
    "LEFT = (-1,0)\n",
    "\n",
    "DIRECTIONS = [UP,RIGHT,DOWN,LEFT]"
   ]
  },
  {
   "cell_type": "markdown",
   "id": "c16ae3fc",
   "metadata": {},
   "source": [
    "# Step 1: Generate all possible fold\n",
    "The first step is to create a function that will generate all possible folds. A fold is a representation of the sequence on a 2d grid. To represent this we will use a python dictionary where the keys are the positions on the 2d grid and the value is the index in the sequence. We choose to use a dictionary to ease the process of finding if there is already a square with a symbol in it (compared to a matrix where we would need to iterate through it each time). <br> <br>\n",
    "We define searchFold, a function that will print all possible folds given a sequence. sequence is the sequence, index is the index in the sequence, fold is the dictonary where we store a current fold, and currentPosition is a tuple in which we store our current position (x,y) on the 2d grid. <br> <br>\n",
    "The goal is to explore the conformational space with our sequence by testing all possible directions the next symbol in the sequence could go recursively. <br> <br>\n",
    "This function will, for each position UP, RIGHT, DOWN and LEFT update the currentPosition for a given symbol of index in the sequence. Then we call searchFold again for each position for index + 1. When the length of the dictionary is equal the to length of the sequence, we known we have obtain one possible conformation that we then print."
   ]
  },
  {
   "cell_type": "code",
   "execution_count": 2,
   "id": "e33ed0f5",
   "metadata": {},
   "outputs": [],
   "source": [
    "def realSearchFold(sequence):\n",
    "    searchFold(sequence,0,{},(0,0))\n",
    "\n",
    "def searchFold(sequence,index,fold,currentPosition):\n",
    "    \"\"\"Find all posible conformation for a sequence on a 2d grid\"\"\"\n",
    "    if index < len(sequence):\n",
    "        if currentPosition not in fold.keys():\n",
    "            fold[currentPosition] = index\n",
    "            if index+1 < len(sequence):\n",
    "                for direction in DIRECTIONS:\n",
    "                    newPosition = (currentPosition[0]+direction[0],currentPosition[1]+direction[1])\n",
    "                    searchFold(sequence,index+1,fold.copy(),newPosition)\n",
    "            else:\n",
    "                print(fold)"
   ]
  },
  {
   "cell_type": "code",
   "execution_count": 3,
   "id": "364043d8",
   "metadata": {},
   "outputs": [
    {
     "name": "stdout",
     "output_type": "stream",
     "text": [
      "{(0, 0): 0, (0, 1): 1, (0, 2): 2}\n",
      "{(0, 0): 0, (0, 1): 1, (1, 1): 2}\n",
      "{(0, 0): 0, (0, 1): 1, (-1, 1): 2}\n",
      "{(0, 0): 0, (1, 0): 1, (1, 1): 2}\n",
      "{(0, 0): 0, (1, 0): 1, (2, 0): 2}\n",
      "{(0, 0): 0, (1, 0): 1, (1, -1): 2}\n",
      "{(0, 0): 0, (0, -1): 1, (1, -1): 2}\n",
      "{(0, 0): 0, (0, -1): 1, (0, -2): 2}\n",
      "{(0, 0): 0, (0, -1): 1, (-1, -1): 2}\n",
      "{(0, 0): 0, (-1, 0): 1, (-1, 1): 2}\n",
      "{(0, 0): 0, (-1, 0): 1, (-1, -1): 2}\n",
      "{(0, 0): 0, (-1, 0): 1, (-2, 0): 2}\n"
     ]
    }
   ],
   "source": [
    "realSearchFold(\"HHP\")"
   ]
  },
  {
   "cell_type": "markdown",
   "id": "d62ba5e6",
   "metadata": {},
   "source": [
    "# Step 2: Visualising a fold\n",
    "Before trying to get the best fold, we need a way to visualise a fold. The folds are in the form of a dictionary which mean we need to translate it to a matrix in order to print them. <br> <br>\n",
    "The first step is to remove all negative numbers: because we want to store the folds in matrix, we cannot have negative numbers.\n",
    "To do this and keep the same structure we simply use the translation function. This function will find the lowest value in a position in a fold and perform a translation with that numer on the whole fold to only have only positive values. This is equivalent to performing a translation of the structure on 2d space.<br> <br>\n",
    "convertFold will convert a fold in the form of a dictionary to a matrix, we need this function for both display and calculating the score. An empty space is represented by a -1, the symbol are represented by their index in the sequence."
   ]
  },
  {
   "cell_type": "code",
   "execution_count": 4,
   "id": "99a868c9",
   "metadata": {},
   "outputs": [],
   "source": [
    "def translation(fold):\n",
    "    \"\"\"Perform a translation on the 2d on a fold\"\"\"\n",
    "    minValue = 0\n",
    "    keys = list(fold.keys())\n",
    "    for i in range(len(keys)):\n",
    "        if keys[i][0] < minValue:\n",
    "            minValue = keys[i][0]\n",
    "        elif keys[i][1] < minValue:\n",
    "            minValue = keys[i][1]\n",
    "\n",
    "    newFold = {}\n",
    "    for i in range(len(keys)):\n",
    "        newFold[(abs(minValue) + keys[i][0],abs(minValue) + keys[i][1])] = fold[keys[i]]\n",
    "\n",
    "    return newFold\n",
    "\n",
    "def convertFold(sequence,fold):\n",
    "    \"\"\"Convert a fold in the form of a dictionary to a matrix of length sequence*sequence\n",
    "    -1 represent an empty space, the symbol are represented by their index in the sequence\n",
    "    \"\"\"\n",
    "    \n",
    "    newFold = translation(fold)\n",
    "    mat = []\n",
    "    for i in range(len(sequence)):\n",
    "        line = []\n",
    "        for j in range(len(sequence)):\n",
    "            line.append(-1)\n",
    "        mat.append(line)\n",
    "        \n",
    "    for key in newFold.keys():\n",
    "        mat[key[0]][key[1]] = newFold[key]\n",
    "    return mat\n",
    "        \n",
    "\n",
    "    "
   ]
  },
  {
   "cell_type": "code",
   "execution_count": 5,
   "id": "b69c65cc",
   "metadata": {},
   "outputs": [
    {
     "name": "stdout",
     "output_type": "stream",
     "text": [
      "original fold: {(0, 0): 0, (0, 1): 1, (-1, 1): 2, (-1, 0): 3, (-2, 0): 4, (-2, 1): 5, (-2, 2): 6, (-1, 2): 7} \n",
      "\n",
      "translation: {(2, 2): 0, (2, 3): 1, (1, 3): 2, (1, 2): 3, (0, 2): 4, (0, 3): 5, (0, 4): 6, (1, 4): 7} \n",
      "\n",
      "traduction en matrix [[-1, -1, 4, 5, 6, -1, -1, -1], [-1, -1, 3, 2, 7, -1, -1, -1], [-1, -1, 0, 1, -1, -1, -1, -1], [-1, -1, -1, -1, -1, -1, -1, -1], [-1, -1, -1, -1, -1, -1, -1, -1], [-1, -1, -1, -1, -1, -1, -1, -1], [-1, -1, -1, -1, -1, -1, -1, -1], [-1, -1, -1, -1, -1, -1, -1, -1]] \n",
      "\n"
     ]
    }
   ],
   "source": [
    "testFold = {(0, 0): 0, (0, 1): 1, (-1, 1): 2, (-1, 0): 3, (-2, 0): 4, (-2, 1): 5, (-2, 2): 6,(-1,2):7}\n",
    "seq = \"HHHPPHPH\"\n",
    "\n",
    "print(\"original fold:\",testFold,\"\\n\")\n",
    "print(\"translation:\" ,translation(testFold),\"\\n\")\n",
    "print(\"traduction en matrix\",convertFold(seq,testFold),\"\\n\")"
   ]
  },
  {
   "cell_type": "markdown",
   "id": "85838b58",
   "metadata": {},
   "source": [
    "printMat will display the fold along with the H bonds and the bonds between neighbours. We detect neighbours by substracting their index in the sequence and testing if the absolute value of this numbers is 1 (neighbours) are not (not neighbours). This function is very tedious and test multiple branching conditions to know which symbol to print."
   ]
  },
  {
   "cell_type": "code",
   "execution_count": 6,
   "id": "49907995",
   "metadata": {},
   "outputs": [],
   "source": [
    "def printMat(mat,sequence):\n",
    "    \"\"\"print a fold from the matrix containing the fold, the matrix used to display is double the size of mat\n",
    "    because we also need to print the bonds.\n",
    "    \"\"\"\n",
    "    displayMat = []\n",
    "    for i in range(len(mat)):\n",
    "        line2 = []\n",
    "        line1 = []\n",
    "        for j in range(len(mat[i])-1):\n",
    "            if mat[i][j] == -1:\n",
    "                line1.append(\" \")\n",
    "                line1.append(\" \")\n",
    "                \n",
    "                line2.append(\" \")\n",
    "                line2.append(\" \")\n",
    "            else:\n",
    "                line1.append(sequence[mat[i][j]])\n",
    "                if abs(mat[i][j]-mat[i][j+1]) == 1:\n",
    "                    line1.append(\"-\")\n",
    "                elif mat[i][j+1] != -1 and sequence[mat[i][j]]==\"H\" and sequence[mat[i][j+1]]== \"H\" and abs(mat[i][j]-mat[i][j+1]) != 1:\n",
    "                    line1.append(\"*\")\n",
    "                else:\n",
    "                    line1.append(\" \")\n",
    "                \n",
    "                if mat[i+1][j] != -1 and abs(mat[i][j]-mat[i+1][j]) == 1:\n",
    "                    line2.append(\"|\")\n",
    "                elif mat[i+1][j] != -1 and sequence[mat[i][j]]==\"H\" and sequence[mat[i+1][j]]== \"H\" and abs(mat[i+1][j]-mat[i][j]) != 1:\n",
    "                    line2.append(\"*\")\n",
    "                else:\n",
    "                    line2.append(\" \")\n",
    "                line2.append(\" \")\n",
    "        displayMat.append(line1)\n",
    "        displayMat.append(line2)\n",
    "        \n",
    "    for i in range(len(displayMat)):\n",
    "        for j in range(len(displayMat[i])):\n",
    "            print(displayMat[i][j],end=\"\")\n",
    "        print()\n"
   ]
  },
  {
   "cell_type": "code",
   "execution_count": 7,
   "id": "8119d78f",
   "metadata": {},
   "outputs": [
    {
     "name": "stdout",
     "output_type": "stream",
     "text": [
      "    P-H-P     \n",
      "    | * |     \n",
      "    P-H*H     \n",
      "      |       \n",
      "    H-H       \n",
      "              \n",
      "              \n",
      "              \n",
      "              \n",
      "              \n",
      "              \n",
      "              \n",
      "              \n",
      "              \n",
      "              \n",
      "              \n"
     ]
    }
   ],
   "source": [
    "testFold = {(0, 0): 0, (0, 1): 1, (-1, 1): 2, (-1, 0): 3, (-2, 0): 4, (-2, 1): 5, (-2, 2): 6,(-1,2):7}\n",
    "seq = \"HHHPPHPH\"\n",
    "printMat(convertFold(seq,testFold),seq)"
   ]
  },
  {
   "cell_type": "markdown",
   "id": "8212215e",
   "metadata": {},
   "source": [
    "# Step 3: Scoring a fold\n",
    "We define for each fold a score: the number of H bonds the fold contains. To acheive this we use the function computeScore. First we convert the dictionary into a matrix using convertFold. Then we will look at both all the lines and all the columns. If a symbol is H and that its direct neighbour in the matrix is also an H and finaly that those H are not neighbours in the sequence, then we know the two H form an H bond: we increase the counter."
   ]
  },
  {
   "cell_type": "code",
   "execution_count": 8,
   "id": "197a1547",
   "metadata": {},
   "outputs": [],
   "source": [
    "def computeScore(sequence,fold):\n",
    "    \"\"\"Compute a score: the numbers of H bonds, from a fold.\"\"\"\n",
    "    score = 0\n",
    "    mat = convertFold(sequence,fold)\n",
    "    \n",
    "    for i in range(len(mat)-1):\n",
    "        for j in range(len(mat[i])-1):\n",
    "            if mat[i][j] != -1 and mat[i+1][j] != -1:\n",
    "                if sequence[mat[i][j]] == 'H' and sequence[mat[i+1][j]] == 'H' and abs(mat[i][j]-mat[i+1][j]) != 1:\n",
    "                    score += 1\n",
    "    for i in range(len(mat[0])-1):\n",
    "        for j in range(len(mat)-1):\n",
    "            if mat[i][j] != -1 and mat[i][j+1] != -1:\n",
    "                if sequence[mat[i][j]] == 'H' and sequence[mat[i][j+1]] == 'H' and abs(mat[i][j]-mat[i][j+1]) != 1:\n",
    "                    score += 1\n",
    "                \n",
    "    return score"
   ]
  },
  {
   "cell_type": "code",
   "execution_count": 9,
   "id": "3a564b2d",
   "metadata": {
    "scrolled": true
   },
   "outputs": [
    {
     "name": "stdout",
     "output_type": "stream",
     "text": [
      "The score for this fold is: 2\n",
      "              \n",
      "              \n",
      "              \n",
      "              \n",
      "H-H-H*H       \n",
      "| *   |       \n",
      "P-H-P-P       \n",
      "              \n",
      "              \n",
      "              \n",
      "              \n",
      "              \n",
      "              \n",
      "              \n",
      "              \n",
      "              \n"
     ]
    }
   ],
   "source": [
    "testFold = {(0, 0): 0, (0, -1): 1, (0, -2): 2, (1, -2): 3, (1, -1): 4, (1, 0): 5, (1, 1): 6,(0,1): 7}\n",
    "\n",
    "print(\"The score for this fold is:\" , computeScore(\"HHHPHPPH\",testFold))\n",
    "printMat(convertFold(\"HHHPHPPH\",testFold),\"HHHPHPPH\")"
   ]
  },
  {
   "cell_type": "markdown",
   "id": "0afe5499",
   "metadata": {},
   "source": [
    "# Step 4: Finding the best fold\n",
    "To find the best fold, we use the same recursion of searchFold but this time we store each fold in a list and instead of printing the fold, we return the fold of foldList with the best score. Each recursion we take the best out of the possible conformations. In the end we are left with a fold that have the highest score this sequence can acheive."
   ]
  },
  {
   "cell_type": "code",
   "execution_count": 10,
   "id": "d595f2d5",
   "metadata": {},
   "outputs": [],
   "source": [
    "def realBestFold(sequence):\n",
    "    return bestFold(sequence,0,{},(0,0))\n",
    "\n",
    "def bestFold(sequence,index,fold,currentPosition):\n",
    "    \"\"\"return the fold with the best score\"\"\"\n",
    "    if index < len(sequence):\n",
    "        if currentPosition not in fold.keys():\n",
    "            fold[currentPosition] = index\n",
    "            \n",
    "            foldList = []\n",
    "            \n",
    "            if index+1 < len(sequence):\n",
    "                for direction in DIRECTIONS:\n",
    "                    newPosition = (currentPosition[0]+direction[0],currentPosition[1]+direction[1])\n",
    "                    newFold = bestFold(sequence,index+1,fold.copy(),newPosition)\n",
    "                    if newFold != None:\n",
    "                        foldList.append(newFold)\n",
    "            else:\n",
    "                return fold\n",
    "            if foldList != []:\n",
    "                maxFold = 0\n",
    "                for i in range(1,len(foldList)):\n",
    "                    if computeScore(sequence,foldList[maxFold]) < computeScore(sequence,foldList[i]):\n",
    "                        maxFold = i\n",
    "                return foldList[maxFold]"
   ]
  },
  {
   "cell_type": "code",
   "execution_count": 11,
   "id": "99fc7b66",
   "metadata": {},
   "outputs": [
    {
     "name": "stdout",
     "output_type": "stream",
     "text": [
      "{(0, 0): 0, (0, 1): 1, (0, 2): 2, (0, 3): 3, (1, 3): 4, (1, 2): 5, (1, 1): 6, (2, 1): 7, (2, 0): 8, (2, -1): 9, (1, -1): 10, (1, 0): 11}\n",
      "The number of H bond is  5\n",
      "                      \n",
      "                      \n",
      "  H-H-H-P             \n",
      "  * * * |             \n",
      "H-H*H-H-P             \n",
      "| * |                 \n",
      "P-H-P                 \n",
      "                      \n",
      "                      \n",
      "                      \n",
      "                      \n",
      "                      \n",
      "                      \n",
      "                      \n",
      "                      \n",
      "                      \n",
      "                      \n",
      "                      \n",
      "                      \n",
      "                      \n",
      "                      \n",
      "                      \n",
      "                      \n",
      "                      \n"
     ]
    }
   ],
   "source": [
    "seq = \"HHHPPHHPHPHH\"\n",
    "fold = realBestFold(seq)\n",
    "print(fold)\n",
    "print(\"The number of H bond is \" ,computeScore(seq,fold))\n",
    "printMat(convertFold(seq,fold),seq)"
   ]
  },
  {
   "cell_type": "markdown",
   "id": "8143e533",
   "metadata": {},
   "source": [
    "# Exemples\n",
    "The fourth sequence of length 17 take far too much time. We will understand why in the next section."
   ]
  },
  {
   "cell_type": "code",
   "execution_count": 12,
   "id": "a6a39e2c",
   "metadata": {},
   "outputs": [
    {
     "name": "stdout",
     "output_type": "stream",
     "text": [
      "The score for  HPHHHHPPHPPH  is  5\n",
      "                      \n",
      "                      \n",
      "  H-P                 \n",
      "  * |                 \n",
      "P-H*H-H               \n",
      "| * * |               \n",
      "P-H*H-H               \n",
      "  | |                 \n",
      "  P-P                 \n",
      "                      \n",
      "                      \n",
      "                      \n",
      "                      \n",
      "                      \n",
      "                      \n",
      "                      \n",
      "                      \n",
      "                      \n",
      "                      \n",
      "                      \n",
      "                      \n",
      "                      \n",
      "                      \n",
      "                      \n",
      "The score for  HPPHPHP  is  2\n",
      "            \n",
      "            \n",
      "            \n",
      "            \n",
      "P-H*H-P     \n",
      "  | * |     \n",
      "  P-H-P     \n",
      "            \n",
      "            \n",
      "            \n",
      "            \n",
      "            \n",
      "            \n",
      "            \n",
      "The score for  HHHHHHHHH  is  4\n",
      "H-H-H           \n",
      "* * |           \n",
      "H-H*H           \n",
      "| * |           \n",
      "H-H-H           \n",
      "                \n",
      "                \n",
      "                \n",
      "                \n",
      "                \n",
      "                \n",
      "                \n",
      "                \n",
      "                \n",
      "                \n",
      "                \n",
      "                \n",
      "                \n"
     ]
    }
   ],
   "source": [
    "seq1 = \"HPHHHHPPHPPH\"\n",
    "seq2 = \"HPPHPHP\"\n",
    "seq3 = \"HHHHHHHHH\"\n",
    "seq4 = \"HHHPHPPHPHPPHHHPH\"\n",
    "\n",
    "fold1 = realBestFold(seq1)\n",
    "fold2 = realBestFold(seq2)\n",
    "fold3 = realBestFold(seq3)\n",
    "\n",
    "print(\"The score for \",seq1,\" is \",computeScore(seq1,fold1))\n",
    "printMat(convertFold(seq1,fold1),seq1)\n",
    "\n",
    "print(\"The score for \",seq2,\" is \",computeScore(seq2,fold2))\n",
    "printMat(convertFold(seq2,fold2),seq2)\n",
    "\n",
    "print(\"The score for \",seq3,\" is \",computeScore(seq3,fold3))\n",
    "printMat(convertFold(seq3,fold3),seq3)"
   ]
  },
  {
   "cell_type": "markdown",
   "id": "e11d73c4",
   "metadata": {},
   "source": [
    "# Using random strings of size n\n",
    "Using the random library, we can create random sequences of length n composed of either H or P. We want to plot the time taken (using the time library) to find the best fold with n. <br> <br>\n",
    "We can cleary see that the time is exponential. This algorithm will take ridiculous amount of time for sequences longer than 15."
   ]
  },
  {
   "cell_type": "code",
   "execution_count": 13,
   "id": "46e9629e",
   "metadata": {},
   "outputs": [
    {
     "name": "stdout",
     "output_type": "stream",
     "text": [
      "We resolve in time  0.0  sec for a random sequence of size  1\n",
      "We resolve in time  0.0  sec for a random sequence of size  2\n",
      "We resolve in time  0.0  sec for a random sequence of size  3\n",
      "We resolve in time  0.0  sec for a random sequence of size  4\n",
      "We resolve in time  0.0  sec for a random sequence of size  5\n",
      "We resolve in time  0.01  sec for a random sequence of size  6\n",
      "We resolve in time  0.03  sec for a random sequence of size  7\n",
      "We resolve in time  0.1  sec for a random sequence of size  8\n",
      "We resolve in time  0.3  sec for a random sequence of size  9\n",
      "We resolve in time  0.92  sec for a random sequence of size  10\n",
      "We resolve in time  2.76  sec for a random sequence of size  11\n",
      "We resolve in time  8.3  sec for a random sequence of size  12\n",
      "We resolve in time  25.04  sec for a random sequence of size  13\n",
      "We resolve in time  77.7  sec for a random sequence of size  14\n"
     ]
    }
   ],
   "source": [
    "import random\n",
    "import time\n",
    "\n",
    "n = 15\n",
    "timeTaken = []\n",
    "length = []\n",
    "\n",
    "\n",
    "for i in range(1,n):\n",
    "    \n",
    "    #generating random sequences\n",
    "    seq = []\n",
    "    for j in range(i):\n",
    "        coin = random.randint(0,1)\n",
    "        if coin == 0:\n",
    "            seq.append(\"H\")\n",
    "        else:\n",
    "            seq.append(\"P\")\n",
    "            \n",
    "    #measuring the time taken to find the best fold\n",
    "    start = time.time()\n",
    "    fold = realBestFold(seq)\n",
    "    end = time.time()\n",
    "    timeTaken.append(round(end-start,2))\n",
    "    length.append(i)\n",
    "    print(\"We resolve in time \" , round(end-start,2) , \" sec for a random sequence of size \",i)\n",
    "    "
   ]
  },
  {
   "cell_type": "code",
   "execution_count": 14,
   "id": "3a21ee37",
   "metadata": {
    "scrolled": true
   },
   "outputs": [
    {
     "data": {
      "text/plain": [
       "Text(0.5, 0, 'Length')"
      ]
     },
     "execution_count": 14,
     "metadata": {},
     "output_type": "execute_result"
    },
    {
     "data": {
      "image/png": "[encoded data removed]",
      "text/plain": [
       "<Figure size 432x288 with 1 Axes>"
      ]
     },
     "metadata": {
      "needs_background": "light"
     },
     "output_type": "display_data"
    }
   ],
   "source": [
    "# from https://swcarpentry.github.io/python-novice-gapminder/09-plotting/index.html\n",
    "import matplotlib.pyplot as plt\n",
    "plt.plot(length,timeTaken)\n",
    "plt.ylabel('Time in sec')\n",
    "plt.xlabel('Length')\n"
   ]
  },
  {
   "cell_type": "markdown",
   "id": "307a83f8",
   "metadata": {},
   "source": [
    "# Branch and Bound\n",
    "We see that this algorithm takes an exponential amount of time. To have a chance to improve the performances we need to implement branch and bound techniques. <br> <br>\n",
    "We need a way to detect solution that we can give up on. A first idea is that, if the end of the sequence is only formed of P and not H we can give searching the 2D conformational space early. <br> <br>\n",
    "The function isGiveUpWorth will return True if the end of the sequence from an index is only composed of P. <br> <br>\n",
    "With a simple condition we can implement this solution on our recursion."
   ]
  },
  {
   "cell_type": "code",
   "execution_count": 15,
   "id": "ae319a84",
   "metadata": {},
   "outputs": [],
   "source": [
    "def isGiveUpWorth(sequence,index):\n",
    "    for i in range(index, len(sequence)):\n",
    "        if sequence[i] == \"H\":\n",
    "            return False\n",
    "    return True"
   ]
  },
  {
   "cell_type": "code",
   "execution_count": 16,
   "id": "6a2085a2",
   "metadata": {},
   "outputs": [
    {
     "name": "stdout",
     "output_type": "stream",
     "text": [
      "False\n",
      "True\n"
     ]
    }
   ],
   "source": [
    "print(isGiveUpWorth(\"HHHPPHPPPPP\",5))\n",
    "print(isGiveUpWorth(\"HHHPPHPPPPP\",6))"
   ]
  },
  {
   "cell_type": "code",
   "execution_count": 17,
   "id": "f6949890",
   "metadata": {},
   "outputs": [],
   "source": [
    "def realBestFold2(sequence):\n",
    "    return bestFold2(sequence,0,{},(0,0))\n",
    "\n",
    "def bestFold2(sequence,index,fold,currentPosition):\n",
    "    \"\"\"return the fold with the best score\"\"\"\n",
    "    if index < len(sequence):\n",
    "        if currentPosition not in fold.keys():\n",
    "            fold[currentPosition] = index\n",
    "            \n",
    "            foldList = []\n",
    "            \n",
    "            if not isGiveUpWorth(sequence,index) and index+1 < len(sequence):\n",
    "                for direction in DIRECTIONS:\n",
    "                    newPosition = (currentPosition[0]+direction[0],currentPosition[1]+direction[1])\n",
    "                    newFold = bestFold2(sequence,index+1,fold.copy(),newPosition)\n",
    "                    if newFold != None:\n",
    "                        foldList.append(newFold)\n",
    "            else:\n",
    "                return fold\n",
    "            if foldList != []:\n",
    "                maxFold = 0\n",
    "                for i in range(1,len(foldList)):\n",
    "                    if computeScore(sequence,foldList[maxFold]) < computeScore(sequence,foldList[i]):\n",
    "                        maxFold = i\n",
    "                return foldList[maxFold]"
   ]
  },
  {
   "cell_type": "code",
   "execution_count": 18,
   "id": "b72e456d",
   "metadata": {},
   "outputs": [
    {
     "name": "stdout",
     "output_type": "stream",
     "text": [
      "{(0, 0): 0, (0, 1): 1, (1, 1): 2, (2, 1): 3, (2, 0): 4, (1, 0): 5, (1, -1): 6}\n",
      "                    \n",
      "                    \n",
      "  H-H               \n",
      "  * |               \n",
      "P-H*H               \n",
      "  | |               \n",
      "  P-P               \n",
      "                    \n",
      "                    \n",
      "                    \n",
      "                    \n",
      "                    \n",
      "                    \n",
      "                    \n",
      "                    \n",
      "                    \n",
      "                    \n",
      "                    \n",
      "                    \n",
      "                    \n",
      "                    \n",
      "                    \n",
      "                    \n",
      "                    \n",
      "  H-H               \n",
      "  * |               \n",
      "P-H*H               \n",
      "| | |               \n",
      "P P-P               \n",
      "|                   \n",
      "P-P-P               \n",
      "                    \n",
      "                    \n",
      "                    \n",
      "                    \n",
      "                    \n",
      "                    \n",
      "                    \n",
      "                    \n",
      "                    \n",
      "                    \n",
      "                    \n",
      "                    \n",
      "                    \n"
     ]
    }
   ],
   "source": [
    "seq = \"HHHPPHPPPPP\"\n",
    "\n",
    "fold = realBestFold2(seq)\n",
    "print(fold)\n",
    "printMat(convertFold(seq,fold),seq)\n",
    "\n",
    "fold2 = realBestFold(seq)\n",
    "printMat(convertFold(seq,fold2),seq)"
   ]
  },
  {
   "cell_type": "markdown",
   "id": "dc4c2dde",
   "metadata": {},
   "source": [
    "In the code above, we do not have the entire conformation for the branch and bound, but the P after the last H can be in any conformation possible, the number of H bonds will be the same. It is clear that this technique will save a lot of time for sequences ending with a lot of P however the technique is useless (and even slighty worst because we iterate through the list each time) than the normal recursion for sequences that even have a single H at the end."
   ]
  }
 ],
 "metadata": {
  "kernelspec": {
   "display_name": "Python 3 (ipykernel)",
   "language": "python",
   "name": "python3"
  },
  "language_info": {
   "codemirror_mode": {
    "name": "ipython",
    "version": 3
   },
   "file_extension": ".py",
   "mimetype": "text/x-python",
   "name": "python",
   "nbconvert_exporter": "python",
   "pygments_lexer": "ipython3",
   "version": "3.8.10"
  }
 },
 "nbformat": 4,
 "nbformat_minor": 5
}
